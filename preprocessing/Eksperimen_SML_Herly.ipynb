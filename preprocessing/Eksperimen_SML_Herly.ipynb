{
 "cells": [
  {
   "cell_type": "markdown",
   "metadata": {
    "id": "kZLRMFl0JyyQ"
   },
   "source": [
    "# **1. Dataset Introduction**"
   ]
  },
  {
   "cell_type": "markdown",
   "metadata": {
    "id": "hssSDn-5n3HR"
   },
   "source": [
    "This dataset was obtained from Kaggle under the title **\"Extrovert vs. Introvert Behavior Data\"**.\n",
    "It contains personality traits like extroversion and introversion shape how individuals interact with their social environments. This dataset provides insights into behaviors such as time spent alone, social event attendance, and social media engagement, enabling applications in psychology, sociology, marketing, and machine learning. Whether you're predicting personality types or analyzing social patterns, this dataset is your gateway to uncovering fascinating insights\n",
    "\n",
    "* **Source**: [Extrovert vs. Introvert Behavior Data](https://www.kaggle.com/datasets/rakeshkapilavai/extrovert-vs-introvert-behavior-data)\n",
    "* **Data Type**: Structured (CSV)\n",
    "* **Target**: `Personality` column\n",
    "\n",
    "**Feature Descriptions** in the dataset:\n",
    "\n",
    "* **Time_spent_Alone**: Hours spent alone daily (0–11)\n",
    "* **Stage_fear**: Presence of stage fright (Yes/No)\n",
    "* **Social_event_attendance**: Frequency of social events (0–10)\n",
    "* **Going_outside**: Frequency of going outside (0–7)\n",
    "* **Drained_after_socializing**: Feeling drained after socializing (Yes/No)\n",
    "* **Friends_circle_size**: Number of close friends (0–15)\n",
    "* **Post_frequency**: Social media post frequency (0–10)\n",
    "* **Personality**: Target variable (Extrovert/Introvert)"
   ]
  },
  {
   "cell_type": "markdown",
   "metadata": {
    "id": "fKADPWcFKlj3"
   },
   "source": [
    "# **2. Import Library**"
   ]
  },
  {
   "cell_type": "markdown",
   "metadata": {},
   "source": [
    "| **Library**    | **Function**                                                                             |\n",
    "| -------------- | ---------------------------------------------------------------------------------------- |\n",
    "| `pandas`       | Used for reading and manipulating tabular data (e.g., CSV files).                        |\n",
    "| `numpy`        | Provides support for numerical operations, arrays, and mathematical tools.               |\n",
    "| `matplotlib`   | Basic plotting library for creating visualizations like line charts, bars.               |\n",
    "| `seaborn`      | Statistical visualization library built on top of matplotlib (e.g., heatmaps, boxplots). |\n",
    "| `scikit-learn` | Provides preprocessing tools, machine learning models, and evaluation metrics.           |\n",
    "| `joblib`       | Efficiently saves and loads Python objects like models, scalers, and encoders.           |\n",
    "| `os`           | Provides functions for interacting with the operating system (e.g., file paths).       |\n",
    "| `mlflow`       | Manages the machine learning lifecycle, including experimentation and deployment.       |\n",
    "| `python-dotenv`| Loads environment variables from a `.env` file for configuration management.            |\n",
    "| `dagshub`      | Enables version control and collaboration for machine learning experiments and datasets. |\n"
   ]
  },
  {
   "cell_type": "code",
   "execution_count": 1,
   "metadata": {
    "ExecuteTime": {
     "end_time": "2025-05-25T04:46:24.158583Z",
     "start_time": "2025-05-25T04:46:21.823169Z"
    },
    "id": "BlmvjLY9M4Yj"
   },
   "outputs": [
    {
     "name": "stdout",
     "output_type": "stream",
     "text": [
      "Requirement already satisfied: pandas in c:\\users\\thinkpad\\appdata\\local\\programs\\python\\python313\\lib\\site-packages (2.2.3)\n",
      "Requirement already satisfied: numpy in c:\\users\\thinkpad\\appdata\\local\\programs\\python\\python313\\lib\\site-packages (2.2.3)\n",
      "Requirement already satisfied: matplotlib in c:\\users\\thinkpad\\appdata\\local\\programs\\python\\python313\\lib\\site-packages (3.10.1)\n",
      "Requirement already satisfied: seaborn in c:\\users\\thinkpad\\appdata\\local\\programs\\python\\python313\\lib\\site-packages (0.13.2)\n",
      "Requirement already satisfied: scikit-learn in c:\\users\\thinkpad\\appdata\\local\\programs\\python\\python313\\lib\\site-packages (1.6.1)\n",
      "Requirement already satisfied: joblib in c:\\users\\thinkpad\\appdata\\local\\programs\\python\\python313\\lib\\site-packages (1.4.2)\n",
      "Requirement already satisfied: mlflow in c:\\users\\thinkpad\\appdata\\local\\programs\\python\\python313\\lib\\site-packages (3.1.0)\n",
      "Requirement already satisfied: dagshub in c:\\users\\thinkpad\\appdata\\local\\programs\\python\\python313\\lib\\site-packages (0.5.10)\n",
      "Requirement already satisfied: streamlit in c:\\users\\thinkpad\\appdata\\local\\programs\\python\\python313\\lib\\site-packages (1.43.0)\n",
      "Requirement already satisfied: python-dotenv in c:\\users\\thinkpad\\appdata\\local\\programs\\python\\python313\\lib\\site-packages (1.1.0)\n",
      "Requirement already satisfied: python-dateutil>=2.8.2 in c:\\users\\thinkpad\\appdata\\local\\programs\\python\\python313\\lib\\site-packages (from pandas) (2.9.0.post0)\n",
      "Requirement already satisfied: pytz>=2020.1 in c:\\users\\thinkpad\\appdata\\local\\programs\\python\\python313\\lib\\site-packages (from pandas) (2025.1)\n",
      "Requirement already satisfied: tzdata>=2022.7 in c:\\users\\thinkpad\\appdata\\local\\programs\\python\\python313\\lib\\site-packages (from pandas) (2025.1)\n",
      "Requirement already satisfied: contourpy>=1.0.1 in c:\\users\\thinkpad\\appdata\\local\\programs\\python\\python313\\lib\\site-packages (from matplotlib) (1.3.1)\n",
      "Requirement already satisfied: cycler>=0.10 in c:\\users\\thinkpad\\appdata\\local\\programs\\python\\python313\\lib\\site-packages (from matplotlib) (0.12.1)\n",
      "Requirement already satisfied: fonttools>=4.22.0 in c:\\users\\thinkpad\\appdata\\local\\programs\\python\\python313\\lib\\site-packages (from matplotlib) (4.56.0)\n",
      "Requirement already satisfied: kiwisolver>=1.3.1 in c:\\users\\thinkpad\\appdata\\local\\programs\\python\\python313\\lib\\site-packages (from matplotlib) (1.4.8)\n",
      "Requirement already satisfied: packaging>=20.0 in c:\\users\\thinkpad\\appdata\\local\\programs\\python\\python313\\lib\\site-packages (from matplotlib) (24.2)\n",
      "Requirement already satisfied: pillow>=8 in c:\\users\\thinkpad\\appdata\\local\\programs\\python\\python313\\lib\\site-packages (from matplotlib) (11.1.0)\n",
      "Requirement already satisfied: pyparsing>=2.3.1 in c:\\users\\thinkpad\\appdata\\local\\programs\\python\\python313\\lib\\site-packages (from matplotlib) (3.2.1)\n",
      "Requirement already satisfied: scipy>=1.6.0 in c:\\users\\thinkpad\\appdata\\local\\programs\\python\\python313\\lib\\site-packages (from scikit-learn) (1.15.2)\n",
      "Requirement already satisfied: threadpoolctl>=3.1.0 in c:\\users\\thinkpad\\appdata\\local\\programs\\python\\python313\\lib\\site-packages (from scikit-learn) (3.6.0)\n",
      "Requirement already satisfied: mlflow-skinny==3.1.0 in c:\\users\\thinkpad\\appdata\\local\\programs\\python\\python313\\lib\\site-packages (from mlflow) (3.1.0)\n",
      "Requirement already satisfied: Flask<4 in c:\\users\\thinkpad\\appdata\\local\\programs\\python\\python313\\lib\\site-packages (from mlflow) (3.1.0)\n",
      "Requirement already satisfied: alembic!=1.10.0,<2 in c:\\users\\thinkpad\\appdata\\local\\programs\\python\\python313\\lib\\site-packages (from mlflow) (1.16.1)\n",
      "Requirement already satisfied: docker<8,>=4.0.0 in c:\\users\\thinkpad\\appdata\\local\\programs\\python\\python313\\lib\\site-packages (from mlflow) (7.1.0)\n",
      "Requirement already satisfied: graphene<4 in c:\\users\\thinkpad\\appdata\\local\\programs\\python\\python313\\lib\\site-packages (from mlflow) (3.4.3)\n",
      "Requirement already satisfied: pyarrow<21,>=4.0.0 in c:\\users\\thinkpad\\appdata\\local\\programs\\python\\python313\\lib\\site-packages (from mlflow) (19.0.1)\n",
      "Requirement already satisfied: sqlalchemy<3,>=1.4.0 in c:\\users\\thinkpad\\appdata\\local\\programs\\python\\python313\\lib\\site-packages (from mlflow) (2.0.41)\n",
      "Requirement already satisfied: waitress<4 in c:\\users\\thinkpad\\appdata\\local\\programs\\python\\python313\\lib\\site-packages (from mlflow) (3.0.2)\n",
      "Requirement already satisfied: cachetools<7,>=5.0.0 in c:\\users\\thinkpad\\appdata\\local\\programs\\python\\python313\\lib\\site-packages (from mlflow-skinny==3.1.0->mlflow) (5.5.2)\n",
      "Requirement already satisfied: click<9,>=7.0 in c:\\users\\thinkpad\\appdata\\local\\programs\\python\\python313\\lib\\site-packages (from mlflow-skinny==3.1.0->mlflow) (8.1.8)\n",
      "Requirement already satisfied: cloudpickle<4 in c:\\users\\thinkpad\\appdata\\local\\programs\\python\\python313\\lib\\site-packages (from mlflow-skinny==3.1.0->mlflow) (3.1.1)\n",
      "Requirement already satisfied: databricks-sdk<1,>=0.20.0 in c:\\users\\thinkpad\\appdata\\local\\programs\\python\\python313\\lib\\site-packages (from mlflow-skinny==3.1.0->mlflow) (0.56.0)\n",
      "Requirement already satisfied: fastapi<1 in c:\\users\\thinkpad\\appdata\\local\\programs\\python\\python313\\lib\\site-packages (from mlflow-skinny==3.1.0->mlflow) (0.115.12)\n",
      "Requirement already satisfied: gitpython<4,>=3.1.9 in c:\\users\\thinkpad\\appdata\\local\\programs\\python\\python313\\lib\\site-packages (from mlflow-skinny==3.1.0->mlflow) (3.1.44)\n",
      "Requirement already satisfied: importlib_metadata!=4.7.0,<9,>=3.7.0 in c:\\users\\thinkpad\\appdata\\local\\programs\\python\\python313\\lib\\site-packages (from mlflow-skinny==3.1.0->mlflow) (8.7.0)\n",
      "Requirement already satisfied: opentelemetry-api<3,>=1.9.0 in c:\\users\\thinkpad\\appdata\\local\\programs\\python\\python313\\lib\\site-packages (from mlflow-skinny==3.1.0->mlflow) (1.34.1)\n",
      "Requirement already satisfied: opentelemetry-sdk<3,>=1.9.0 in c:\\users\\thinkpad\\appdata\\local\\programs\\python\\python313\\lib\\site-packages (from mlflow-skinny==3.1.0->mlflow) (1.34.1)\n",
      "Requirement already satisfied: protobuf<7,>=3.12.0 in c:\\users\\thinkpad\\appdata\\local\\programs\\python\\python313\\lib\\site-packages (from mlflow-skinny==3.1.0->mlflow) (5.29.3)\n",
      "Requirement already satisfied: pydantic<3,>=1.10.8 in c:\\users\\thinkpad\\appdata\\local\\programs\\python\\python313\\lib\\site-packages (from mlflow-skinny==3.1.0->mlflow) (2.11.5)\n",
      "Requirement already satisfied: pyyaml<7,>=5.1 in c:\\users\\thinkpad\\appdata\\local\\programs\\python\\python313\\lib\\site-packages (from mlflow-skinny==3.1.0->mlflow) (6.0.2)\n",
      "Requirement already satisfied: requests<3,>=2.17.3 in c:\\users\\thinkpad\\appdata\\local\\programs\\python\\python313\\lib\\site-packages (from mlflow-skinny==3.1.0->mlflow) (2.32.3)\n",
      "Requirement already satisfied: sqlparse<1,>=0.4.0 in c:\\users\\thinkpad\\appdata\\local\\programs\\python\\python313\\lib\\site-packages (from mlflow-skinny==3.1.0->mlflow) (0.5.3)\n",
      "Requirement already satisfied: typing-extensions<5,>=4.0.0 in c:\\users\\thinkpad\\appdata\\local\\programs\\python\\python313\\lib\\site-packages (from mlflow-skinny==3.1.0->mlflow) (4.12.2)\n",
      "Requirement already satisfied: uvicorn<1 in c:\\users\\thinkpad\\appdata\\local\\programs\\python\\python313\\lib\\site-packages (from mlflow-skinny==3.1.0->mlflow) (0.34.3)\n",
      "Requirement already satisfied: Mako in c:\\users\\thinkpad\\appdata\\local\\programs\\python\\python313\\lib\\site-packages (from alembic!=1.10.0,<2->mlflow) (1.3.10)\n",
      "Requirement already satisfied: colorama in c:\\users\\thinkpad\\appdata\\local\\programs\\python\\python313\\lib\\site-packages (from click<9,>=7.0->mlflow-skinny==3.1.0->mlflow) (0.4.6)\n",
      "Requirement already satisfied: google-auth~=2.0 in c:\\users\\thinkpad\\appdata\\local\\programs\\python\\python313\\lib\\site-packages (from databricks-sdk<1,>=0.20.0->mlflow-skinny==3.1.0->mlflow) (2.40.3)\n",
      "Requirement already satisfied: pywin32>=304 in c:\\users\\thinkpad\\appdata\\local\\programs\\python\\python313\\lib\\site-packages (from docker<8,>=4.0.0->mlflow) (308)\n",
      "Requirement already satisfied: urllib3>=1.26.0 in c:\\users\\thinkpad\\appdata\\local\\programs\\python\\python313\\lib\\site-packages (from docker<8,>=4.0.0->mlflow) (2.3.0)\n",
      "Requirement already satisfied: starlette<0.47.0,>=0.40.0 in c:\\users\\thinkpad\\appdata\\local\\programs\\python\\python313\\lib\\site-packages (from fastapi<1->mlflow-skinny==3.1.0->mlflow) (0.46.2)\n",
      "Requirement already satisfied: Werkzeug>=3.1 in c:\\users\\thinkpad\\appdata\\local\\programs\\python\\python313\\lib\\site-packages (from Flask<4->mlflow) (3.1.3)\n",
      "Requirement already satisfied: Jinja2>=3.1.2 in c:\\users\\thinkpad\\appdata\\local\\programs\\python\\python313\\lib\\site-packages (from Flask<4->mlflow) (3.1.6)\n",
      "Requirement already satisfied: itsdangerous>=2.2 in c:\\users\\thinkpad\\appdata\\local\\programs\\python\\python313\\lib\\site-packages (from Flask<4->mlflow) (2.2.0)\n",
      "Requirement already satisfied: blinker>=1.9 in c:\\users\\thinkpad\\appdata\\local\\programs\\python\\python313\\lib\\site-packages (from Flask<4->mlflow) (1.9.0)\n",
      "Requirement already satisfied: gitdb<5,>=4.0.1 in c:\\users\\thinkpad\\appdata\\local\\programs\\python\\python313\\lib\\site-packages (from gitpython<4,>=3.1.9->mlflow-skinny==3.1.0->mlflow) (4.0.12)\n",
      "Requirement already satisfied: smmap<6,>=3.0.1 in c:\\users\\thinkpad\\appdata\\local\\programs\\python\\python313\\lib\\site-packages (from gitdb<5,>=4.0.1->gitpython<4,>=3.1.9->mlflow-skinny==3.1.0->mlflow) (5.0.2)\n",
      "Requirement already satisfied: pyasn1-modules>=0.2.1 in c:\\users\\thinkpad\\appdata\\local\\programs\\python\\python313\\lib\\site-packages (from google-auth~=2.0->databricks-sdk<1,>=0.20.0->mlflow-skinny==3.1.0->mlflow) (0.4.2)\n",
      "Requirement already satisfied: rsa<5,>=3.1.4 in c:\\users\\thinkpad\\appdata\\local\\programs\\python\\python313\\lib\\site-packages (from google-auth~=2.0->databricks-sdk<1,>=0.20.0->mlflow-skinny==3.1.0->mlflow) (4.9.1)\n",
      "Requirement already satisfied: graphql-core<3.3,>=3.1 in c:\\users\\thinkpad\\appdata\\local\\programs\\python\\python313\\lib\\site-packages (from graphene<4->mlflow) (3.2.6)\n",
      "Requirement already satisfied: graphql-relay<3.3,>=3.1 in c:\\users\\thinkpad\\appdata\\local\\programs\\python\\python313\\lib\\site-packages (from graphene<4->mlflow) (3.2.0)\n",
      "Requirement already satisfied: zipp>=3.20 in c:\\users\\thinkpad\\appdata\\local\\programs\\python\\python313\\lib\\site-packages (from importlib_metadata!=4.7.0,<9,>=3.7.0->mlflow-skinny==3.1.0->mlflow) (3.23.0)\n",
      "Requirement already satisfied: opentelemetry-semantic-conventions==0.55b1 in c:\\users\\thinkpad\\appdata\\local\\programs\\python\\python313\\lib\\site-packages (from opentelemetry-sdk<3,>=1.9.0->mlflow-skinny==3.1.0->mlflow) (0.55b1)\n",
      "Requirement already satisfied: annotated-types>=0.6.0 in c:\\users\\thinkpad\\appdata\\local\\programs\\python\\python313\\lib\\site-packages (from pydantic<3,>=1.10.8->mlflow-skinny==3.1.0->mlflow) (0.7.0)\n",
      "Requirement already satisfied: pydantic-core==2.33.2 in c:\\users\\thinkpad\\appdata\\local\\programs\\python\\python313\\lib\\site-packages (from pydantic<3,>=1.10.8->mlflow-skinny==3.1.0->mlflow) (2.33.2)\n",
      "Requirement already satisfied: typing-inspection>=0.4.0 in c:\\users\\thinkpad\\appdata\\local\\programs\\python\\python313\\lib\\site-packages (from pydantic<3,>=1.10.8->mlflow-skinny==3.1.0->mlflow) (0.4.1)\n",
      "Requirement already satisfied: six>=1.5 in c:\\users\\thinkpad\\appdata\\local\\programs\\python\\python313\\lib\\site-packages (from python-dateutil>=2.8.2->pandas) (1.17.0)\n",
      "Requirement already satisfied: charset-normalizer<4,>=2 in c:\\users\\thinkpad\\appdata\\local\\programs\\python\\python313\\lib\\site-packages (from requests<3,>=2.17.3->mlflow-skinny==3.1.0->mlflow) (3.4.1)\n",
      "Requirement already satisfied: idna<4,>=2.5 in c:\\users\\thinkpad\\appdata\\local\\programs\\python\\python313\\lib\\site-packages (from requests<3,>=2.17.3->mlflow-skinny==3.1.0->mlflow) (3.10)\n",
      "Requirement already satisfied: certifi>=2017.4.17 in c:\\users\\thinkpad\\appdata\\local\\programs\\python\\python313\\lib\\site-packages (from requests<3,>=2.17.3->mlflow-skinny==3.1.0->mlflow) (2025.1.31)\n",
      "Requirement already satisfied: pyasn1>=0.1.3 in c:\\users\\thinkpad\\appdata\\local\\programs\\python\\python313\\lib\\site-packages (from rsa<5,>=3.1.4->google-auth~=2.0->databricks-sdk<1,>=0.20.0->mlflow-skinny==3.1.0->mlflow) (0.6.1)\n",
      "Requirement already satisfied: greenlet>=1 in c:\\users\\thinkpad\\appdata\\local\\programs\\python\\python313\\lib\\site-packages (from sqlalchemy<3,>=1.4.0->mlflow) (3.2.3)\n",
      "Requirement already satisfied: anyio<5,>=3.6.2 in c:\\users\\thinkpad\\appdata\\local\\programs\\python\\python313\\lib\\site-packages (from starlette<0.47.0,>=0.40.0->fastapi<1->mlflow-skinny==3.1.0->mlflow) (4.8.0)\n",
      "Requirement already satisfied: sniffio>=1.1 in c:\\users\\thinkpad\\appdata\\local\\programs\\python\\python313\\lib\\site-packages (from anyio<5,>=3.6.2->starlette<0.47.0,>=0.40.0->fastapi<1->mlflow-skinny==3.1.0->mlflow) (1.3.1)\n",
      "Requirement already satisfied: h11>=0.8 in c:\\users\\thinkpad\\appdata\\local\\programs\\python\\python313\\lib\\site-packages (from uvicorn<1->mlflow-skinny==3.1.0->mlflow) (0.14.0)\n",
      "Requirement already satisfied: appdirs>=1.4.4 in c:\\users\\thinkpad\\appdata\\local\\programs\\python\\python313\\lib\\site-packages (from dagshub) (1.4.4)\n",
      "Requirement already satisfied: httpx>=0.23.0 in c:\\users\\thinkpad\\appdata\\local\\programs\\python\\python313\\lib\\site-packages (from dagshub) (0.28.1)\n",
      "Requirement already satisfied: rich>=13.1.0 in c:\\users\\thinkpad\\appdata\\local\\programs\\python\\python313\\lib\\site-packages (from dagshub) (14.0.0)\n",
      "Requirement already satisfied: dacite~=1.6.0 in c:\\users\\thinkpad\\appdata\\local\\programs\\python\\python313\\lib\\site-packages (from dagshub) (1.6.0)\n",
      "Requirement already satisfied: tenacity>=8.2.2 in c:\\users\\thinkpad\\appdata\\local\\programs\\python\\python313\\lib\\site-packages (from dagshub) (9.0.0)\n",
      "Requirement already satisfied: gql[requests] in c:\\users\\thinkpad\\appdata\\local\\programs\\python\\python313\\lib\\site-packages (from dagshub) (3.5.3)\n",
      "Requirement already satisfied: dataclasses-json in c:\\users\\thinkpad\\appdata\\local\\programs\\python\\python313\\lib\\site-packages (from dagshub) (0.6.7)\n",
      "Requirement already satisfied: treelib>=1.6.4 in c:\\users\\thinkpad\\appdata\\local\\programs\\python\\python313\\lib\\site-packages (from dagshub) (1.7.1)\n",
      "Requirement already satisfied: pathvalidate>=3.0.0 in c:\\users\\thinkpad\\appdata\\local\\programs\\python\\python313\\lib\\site-packages (from dagshub) (3.2.3)\n",
      "Requirement already satisfied: boto3 in c:\\users\\thinkpad\\appdata\\local\\programs\\python\\python313\\lib\\site-packages (from dagshub) (1.38.35)\n",
      "Requirement already satisfied: semver in c:\\users\\thinkpad\\appdata\\local\\programs\\python\\python313\\lib\\site-packages (from dagshub) (3.0.4)\n",
      "Requirement already satisfied: dagshub-annotation-converter>=0.1.5 in c:\\users\\thinkpad\\appdata\\local\\programs\\python\\python313\\lib\\site-packages (from dagshub) (0.1.9)\n",
      "Requirement already satisfied: altair<6,>=4.0 in c:\\users\\thinkpad\\appdata\\local\\programs\\python\\python313\\lib\\site-packages (from streamlit) (5.5.0)\n",
      "Requirement already satisfied: toml<2,>=0.10.1 in c:\\users\\thinkpad\\appdata\\local\\programs\\python\\python313\\lib\\site-packages (from streamlit) (0.10.2)\n",
      "Requirement already satisfied: watchdog<7,>=2.1.5 in c:\\users\\thinkpad\\appdata\\local\\programs\\python\\python313\\lib\\site-packages (from streamlit) (6.0.0)\n",
      "Requirement already satisfied: pydeck<1,>=0.8.0b4 in c:\\users\\thinkpad\\appdata\\local\\programs\\python\\python313\\lib\\site-packages (from streamlit) (0.9.1)\n",
      "Requirement already satisfied: tornado<7,>=6.0.3 in c:\\users\\thinkpad\\appdata\\local\\programs\\python\\python313\\lib\\site-packages (from streamlit) (6.4.2)\n",
      "Requirement already satisfied: jsonschema>=3.0 in c:\\users\\thinkpad\\appdata\\local\\programs\\python\\python313\\lib\\site-packages (from altair<6,>=4.0->streamlit) (4.23.0)\n",
      "Requirement already satisfied: narwhals>=1.14.2 in c:\\users\\thinkpad\\appdata\\local\\programs\\python\\python313\\lib\\site-packages (from altair<6,>=4.0->streamlit) (1.29.1)\n",
      "Requirement already satisfied: lxml in c:\\users\\thinkpad\\appdata\\local\\programs\\python\\python313\\lib\\site-packages (from dagshub-annotation-converter>=0.1.5->dagshub) (5.3.1)\n",
      "Requirement already satisfied: httpcore==1.* in c:\\users\\thinkpad\\appdata\\local\\programs\\python\\python313\\lib\\site-packages (from httpx>=0.23.0->dagshub) (1.0.7)\n",
      "Requirement already satisfied: MarkupSafe>=2.0 in c:\\users\\thinkpad\\appdata\\local\\programs\\python\\python313\\lib\\site-packages (from Jinja2>=3.1.2->Flask<4->mlflow) (3.0.2)\n",
      "Requirement already satisfied: attrs>=22.2.0 in c:\\users\\thinkpad\\appdata\\local\\programs\\python\\python313\\lib\\site-packages (from jsonschema>=3.0->altair<6,>=4.0->streamlit) (25.1.0)\n",
      "Requirement already satisfied: jsonschema-specifications>=2023.03.6 in c:\\users\\thinkpad\\appdata\\local\\programs\\python\\python313\\lib\\site-packages (from jsonschema>=3.0->altair<6,>=4.0->streamlit) (2024.10.1)\n",
      "Requirement already satisfied: referencing>=0.28.4 in c:\\users\\thinkpad\\appdata\\local\\programs\\python\\python313\\lib\\site-packages (from jsonschema>=3.0->altair<6,>=4.0->streamlit) (0.36.2)\n",
      "Requirement already satisfied: rpds-py>=0.7.1 in c:\\users\\thinkpad\\appdata\\local\\programs\\python\\python313\\lib\\site-packages (from jsonschema>=3.0->altair<6,>=4.0->streamlit) (0.23.1)\n",
      "Requirement already satisfied: markdown-it-py>=2.2.0 in c:\\users\\thinkpad\\appdata\\local\\programs\\python\\python313\\lib\\site-packages (from rich>=13.1.0->dagshub) (3.0.0)\n",
      "Requirement already satisfied: pygments<3.0.0,>=2.13.0 in c:\\users\\thinkpad\\appdata\\local\\programs\\python\\python313\\lib\\site-packages (from rich>=13.1.0->dagshub) (2.19.1)\n",
      "Requirement already satisfied: mdurl~=0.1 in c:\\users\\thinkpad\\appdata\\local\\programs\\python\\python313\\lib\\site-packages (from markdown-it-py>=2.2.0->rich>=13.1.0->dagshub) (0.1.2)\n",
      "Requirement already satisfied: botocore<1.39.0,>=1.38.35 in c:\\users\\thinkpad\\appdata\\local\\programs\\python\\python313\\lib\\site-packages (from boto3->dagshub) (1.38.35)\n",
      "Requirement already satisfied: jmespath<2.0.0,>=0.7.1 in c:\\users\\thinkpad\\appdata\\local\\programs\\python\\python313\\lib\\site-packages (from boto3->dagshub) (1.0.1)\n",
      "Requirement already satisfied: s3transfer<0.14.0,>=0.13.0 in c:\\users\\thinkpad\\appdata\\local\\programs\\python\\python313\\lib\\site-packages (from boto3->dagshub) (0.13.0)\n",
      "Requirement already satisfied: marshmallow<4.0.0,>=3.18.0 in c:\\users\\thinkpad\\appdata\\local\\programs\\python\\python313\\lib\\site-packages (from dataclasses-json->dagshub) (3.26.1)\n",
      "Requirement already satisfied: typing-inspect<1,>=0.4.0 in c:\\users\\thinkpad\\appdata\\local\\programs\\python\\python313\\lib\\site-packages (from dataclasses-json->dagshub) (0.9.0)\n",
      "Requirement already satisfied: mypy-extensions>=0.3.0 in c:\\users\\thinkpad\\appdata\\local\\programs\\python\\python313\\lib\\site-packages (from typing-inspect<1,>=0.4.0->dataclasses-json->dagshub) (1.1.0)\n",
      "Requirement already satisfied: yarl<2.0,>=1.6 in c:\\users\\thinkpad\\appdata\\local\\programs\\python\\python313\\lib\\site-packages (from gql[requests]->dagshub) (1.20.1)\n",
      "Requirement already satisfied: backoff<3.0,>=1.11.1 in c:\\users\\thinkpad\\appdata\\local\\programs\\python\\python313\\lib\\site-packages (from gql[requests]->dagshub) (2.2.1)\n",
      "Requirement already satisfied: requests-toolbelt<2,>=1.0.0 in c:\\users\\thinkpad\\appdata\\local\\programs\\python\\python313\\lib\\site-packages (from gql[requests]->dagshub) (1.0.0)\n",
      "Requirement already satisfied: multidict>=4.0 in c:\\users\\thinkpad\\appdata\\local\\programs\\python\\python313\\lib\\site-packages (from yarl<2.0,>=1.6->gql[requests]->dagshub) (6.4.4)\n",
      "Requirement already satisfied: propcache>=0.2.1 in c:\\users\\thinkpad\\appdata\\local\\programs\\python\\python313\\lib\\site-packages (from yarl<2.0,>=1.6->gql[requests]->dagshub) (0.3.2)\n",
      "Note: you may need to restart the kernel to use updated packages.\n"
     ]
    }
   ],
   "source": [
    "%pip install pandas numpy matplotlib seaborn scikit-learn joblib mlflow dagshub streamlit python-dotenv"
   ]
  },
  {
   "cell_type": "code",
   "execution_count": 2,
   "metadata": {
    "ExecuteTime": {
     "end_time": "2025-05-25T04:46:24.640676Z",
     "start_time": "2025-05-25T04:46:24.160442Z"
    }
   },
   "outputs": [],
   "source": [
    "!pip freeze > requirements.txt"
   ]
  },
  {
   "cell_type": "code",
   "execution_count": 3,
   "metadata": {
    "ExecuteTime": {
     "end_time": "2025-05-25T04:46:24.645167Z",
     "start_time": "2025-05-25T04:46:24.642092Z"
    }
   },
   "outputs": [],
   "source": [
    "import os # for file and directory manipulation\n",
    "import pandas as pd  # for data manipulation and analysis\n",
    "import numpy as np  # for numerical operations\n",
    "import matplotlib.pyplot as plt  # for creating basic plots and charts\n",
    "import seaborn as sns  # for statistical data visualization\n",
    "from sklearn.model_selection import train_test_split  # for splitting the dataset into training and testing sets\n",
    "from sklearn.preprocessing import StandardScaler, LabelEncoder  # for feature scaling and encoding categorical variables"
   ]
  },
  {
   "cell_type": "markdown",
   "metadata": {
    "id": "f3YIEnAFKrKL"
   },
   "source": [
    "# **3. Load Dataset**"
   ]
  },
  {
   "cell_type": "code",
   "execution_count": 4,
   "metadata": {
    "ExecuteTime": {
     "end_time": "2025-05-25T04:46:24.699602Z",
     "start_time": "2025-05-25T04:46:24.647038Z"
    },
    "id": "GHCGNTyrM5fS"
   },
   "outputs": [
    {
     "data": {
      "text/html": [
       "<div>\n",
       "<style scoped>\n",
       "    .dataframe tbody tr th:only-of-type {\n",
       "        vertical-align: middle;\n",
       "    }\n",
       "\n",
       "    .dataframe tbody tr th {\n",
       "        vertical-align: top;\n",
       "    }\n",
       "\n",
       "    .dataframe thead th {\n",
       "        text-align: right;\n",
       "    }\n",
       "</style>\n",
       "<table border=\"1\" class=\"dataframe\">\n",
       "  <thead>\n",
       "    <tr style=\"text-align: right;\">\n",
       "      <th></th>\n",
       "      <th>Time_spent_Alone</th>\n",
       "      <th>Stage_fear</th>\n",
       "      <th>Social_event_attendance</th>\n",
       "      <th>Going_outside</th>\n",
       "      <th>Drained_after_socializing</th>\n",
       "      <th>Friends_circle_size</th>\n",
       "      <th>Post_frequency</th>\n",
       "      <th>Personality</th>\n",
       "    </tr>\n",
       "  </thead>\n",
       "  <tbody>\n",
       "    <tr>\n",
       "      <th>0</th>\n",
       "      <td>4.0</td>\n",
       "      <td>No</td>\n",
       "      <td>4.0</td>\n",
       "      <td>6.0</td>\n",
       "      <td>No</td>\n",
       "      <td>13.0</td>\n",
       "      <td>5.0</td>\n",
       "      <td>Extrovert</td>\n",
       "    </tr>\n",
       "    <tr>\n",
       "      <th>1</th>\n",
       "      <td>9.0</td>\n",
       "      <td>Yes</td>\n",
       "      <td>0.0</td>\n",
       "      <td>0.0</td>\n",
       "      <td>Yes</td>\n",
       "      <td>0.0</td>\n",
       "      <td>3.0</td>\n",
       "      <td>Introvert</td>\n",
       "    </tr>\n",
       "    <tr>\n",
       "      <th>2</th>\n",
       "      <td>9.0</td>\n",
       "      <td>Yes</td>\n",
       "      <td>1.0</td>\n",
       "      <td>2.0</td>\n",
       "      <td>Yes</td>\n",
       "      <td>5.0</td>\n",
       "      <td>2.0</td>\n",
       "      <td>Introvert</td>\n",
       "    </tr>\n",
       "    <tr>\n",
       "      <th>3</th>\n",
       "      <td>0.0</td>\n",
       "      <td>No</td>\n",
       "      <td>6.0</td>\n",
       "      <td>7.0</td>\n",
       "      <td>No</td>\n",
       "      <td>14.0</td>\n",
       "      <td>8.0</td>\n",
       "      <td>Extrovert</td>\n",
       "    </tr>\n",
       "    <tr>\n",
       "      <th>4</th>\n",
       "      <td>3.0</td>\n",
       "      <td>No</td>\n",
       "      <td>9.0</td>\n",
       "      <td>4.0</td>\n",
       "      <td>No</td>\n",
       "      <td>8.0</td>\n",
       "      <td>5.0</td>\n",
       "      <td>Extrovert</td>\n",
       "    </tr>\n",
       "  </tbody>\n",
       "</table>\n",
       "</div>"
      ],
      "text/plain": [
       "   Time_spent_Alone Stage_fear  Social_event_attendance  Going_outside  \\\n",
       "0               4.0         No                      4.0            6.0   \n",
       "1               9.0        Yes                      0.0            0.0   \n",
       "2               9.0        Yes                      1.0            2.0   \n",
       "3               0.0         No                      6.0            7.0   \n",
       "4               3.0         No                      9.0            4.0   \n",
       "\n",
       "  Drained_after_socializing  Friends_circle_size  Post_frequency Personality  \n",
       "0                        No                 13.0             5.0   Extrovert  \n",
       "1                       Yes                  0.0             3.0   Introvert  \n",
       "2                       Yes                  5.0             2.0   Introvert  \n",
       "3                        No                 14.0             8.0   Extrovert  \n",
       "4                        No                  8.0             5.0   Extrovert  "
      ]
     },
     "execution_count": 4,
     "metadata": {},
     "output_type": "execute_result"
    }
   ],
   "source": [
    "# Get the absolute path of the root directory of the project\n",
    "BASE_DIR = os.path.abspath(os.path.join(os.getcwd(), \"..\"))\n",
    "\n",
    "# Combine \n",
    "csv_path = os.path.join(BASE_DIR, \"personality_dataset_raw.csv\")\n",
    "\n",
    "# Load the dataset from the root directory\n",
    "df = pd.read_csv(csv_path)\n",
    "\n",
    "# Show the first 5 rows to understand the structure\n",
    "df.head()"
   ]
  },
  {
   "cell_type": "markdown",
   "metadata": {
    "id": "bgZkbJLpK9UR"
   },
   "source": [
    "# **4. Exploratory Data Analysis (EDA)**"
   ]
  },
  {
   "cell_type": "markdown",
   "metadata": {},
   "source": [
    "## Basic Data Overview"
   ]
  },
  {
   "cell_type": "code",
   "execution_count": 5,
   "metadata": {
    "ExecuteTime": {
     "end_time": "2025-05-25T04:46:24.743909Z",
     "start_time": "2025-05-25T04:46:24.700576Z"
    },
    "id": "dKeejtvxM6X1"
   },
   "outputs": [
    {
     "name": "stdout",
     "output_type": "stream",
     "text": [
      "<class 'pandas.core.frame.DataFrame'>\n",
      "RangeIndex: 2900 entries, 0 to 2899\n",
      "Data columns (total 8 columns):\n",
      " #   Column                     Non-Null Count  Dtype  \n",
      "---  ------                     --------------  -----  \n",
      " 0   Time_spent_Alone           2837 non-null   float64\n",
      " 1   Stage_fear                 2827 non-null   object \n",
      " 2   Social_event_attendance    2838 non-null   float64\n",
      " 3   Going_outside              2834 non-null   float64\n",
      " 4   Drained_after_socializing  2848 non-null   object \n",
      " 5   Friends_circle_size        2823 non-null   float64\n",
      " 6   Post_frequency             2835 non-null   float64\n",
      " 7   Personality                2900 non-null   object \n",
      "dtypes: float64(5), object(3)\n",
      "memory usage: 181.4+ KB\n"
     ]
    }
   ],
   "source": [
    "# Summary of dataset: data types and missing values\n",
    "df.info()"
   ]
  },
  {
   "cell_type": "markdown",
   "metadata": {},
   "source": [
    " **Insights from Basic Data Overview**\n",
    "\n",
    "1. **Dataset Size and Completeness**\n",
    "\n",
    "   * The dataset contains **2,900 rows and 8 columns**, **have duplicated values**, and **have missing values**.\n",
    "   * This makes the dataset must to cleaning before ready for analysis.\n",
    "\n",
    "2. **Feature Types**\n",
    "\n",
    "   * There are **5 numeric (float64)** \n",
    "   *  **3 categorical/object features** such as `Personality` \n",
    "\n",
    "3. **Target Distribution (`Personality`)**\n",
    "\n",
    "   * The `Personality` variable is object (`Introvert` or `Extrovert`).   \n",
    "\n",
    "4. **Feature Observations**\n",
    "    * **Time_spent_Alone**: Hours spent alone daily (0–11)\n",
    "    * **Stage_fear**: Presence of stage fright (Yes/No)\n",
    "    * **Social_event_attendance**: Frequency of social events (0–10)\n",
    "    * **Going_outside**: Frequency of going outside (0–7)\n",
    "    * **Drained_after_socializing**: Feeling drained after socializing (Yes/No)\n",
    "    * **Friends_circle_size**: Number of close friends (0–15)\n",
    "    * **Post_frequency**: Social media post frequency (0–10)\n",
    "    * **Personality**: Target variable (Extrovert/Introvert)\n",
    "\n",
    "5. **duplicated data** found in the data but no need to handle."
   ]
  },
  {
   "cell_type": "code",
   "execution_count": 6,
   "metadata": {},
   "outputs": [
    {
     "data": {
      "text/html": [
       "<div>\n",
       "<style scoped>\n",
       "    .dataframe tbody tr th:only-of-type {\n",
       "        vertical-align: middle;\n",
       "    }\n",
       "\n",
       "    .dataframe tbody tr th {\n",
       "        vertical-align: top;\n",
       "    }\n",
       "\n",
       "    .dataframe thead th {\n",
       "        text-align: right;\n",
       "    }\n",
       "</style>\n",
       "<table border=\"1\" class=\"dataframe\">\n",
       "  <thead>\n",
       "    <tr style=\"text-align: right;\">\n",
       "      <th></th>\n",
       "      <th>Time_spent_Alone</th>\n",
       "      <th>Stage_fear</th>\n",
       "      <th>Social_event_attendance</th>\n",
       "      <th>Going_outside</th>\n",
       "      <th>Drained_after_socializing</th>\n",
       "      <th>Friends_circle_size</th>\n",
       "      <th>Post_frequency</th>\n",
       "      <th>Personality</th>\n",
       "    </tr>\n",
       "  </thead>\n",
       "  <tbody>\n",
       "    <tr>\n",
       "      <th>count</th>\n",
       "      <td>2837.000000</td>\n",
       "      <td>2827</td>\n",
       "      <td>2838.000000</td>\n",
       "      <td>2834.000000</td>\n",
       "      <td>2848</td>\n",
       "      <td>2823.000000</td>\n",
       "      <td>2835.000000</td>\n",
       "      <td>2900</td>\n",
       "    </tr>\n",
       "    <tr>\n",
       "      <th>unique</th>\n",
       "      <td>NaN</td>\n",
       "      <td>2</td>\n",
       "      <td>NaN</td>\n",
       "      <td>NaN</td>\n",
       "      <td>2</td>\n",
       "      <td>NaN</td>\n",
       "      <td>NaN</td>\n",
       "      <td>2</td>\n",
       "    </tr>\n",
       "    <tr>\n",
       "      <th>top</th>\n",
       "      <td>NaN</td>\n",
       "      <td>No</td>\n",
       "      <td>NaN</td>\n",
       "      <td>NaN</td>\n",
       "      <td>No</td>\n",
       "      <td>NaN</td>\n",
       "      <td>NaN</td>\n",
       "      <td>Extrovert</td>\n",
       "    </tr>\n",
       "    <tr>\n",
       "      <th>freq</th>\n",
       "      <td>NaN</td>\n",
       "      <td>1417</td>\n",
       "      <td>NaN</td>\n",
       "      <td>NaN</td>\n",
       "      <td>1441</td>\n",
       "      <td>NaN</td>\n",
       "      <td>NaN</td>\n",
       "      <td>1491</td>\n",
       "    </tr>\n",
       "    <tr>\n",
       "      <th>mean</th>\n",
       "      <td>4.505816</td>\n",
       "      <td>NaN</td>\n",
       "      <td>3.963354</td>\n",
       "      <td>3.000000</td>\n",
       "      <td>NaN</td>\n",
       "      <td>6.268863</td>\n",
       "      <td>3.564727</td>\n",
       "      <td>NaN</td>\n",
       "    </tr>\n",
       "    <tr>\n",
       "      <th>std</th>\n",
       "      <td>3.479192</td>\n",
       "      <td>NaN</td>\n",
       "      <td>2.903827</td>\n",
       "      <td>2.247327</td>\n",
       "      <td>NaN</td>\n",
       "      <td>4.289693</td>\n",
       "      <td>2.926582</td>\n",
       "      <td>NaN</td>\n",
       "    </tr>\n",
       "    <tr>\n",
       "      <th>min</th>\n",
       "      <td>0.000000</td>\n",
       "      <td>NaN</td>\n",
       "      <td>0.000000</td>\n",
       "      <td>0.000000</td>\n",
       "      <td>NaN</td>\n",
       "      <td>0.000000</td>\n",
       "      <td>0.000000</td>\n",
       "      <td>NaN</td>\n",
       "    </tr>\n",
       "    <tr>\n",
       "      <th>25%</th>\n",
       "      <td>2.000000</td>\n",
       "      <td>NaN</td>\n",
       "      <td>2.000000</td>\n",
       "      <td>1.000000</td>\n",
       "      <td>NaN</td>\n",
       "      <td>3.000000</td>\n",
       "      <td>1.000000</td>\n",
       "      <td>NaN</td>\n",
       "    </tr>\n",
       "    <tr>\n",
       "      <th>50%</th>\n",
       "      <td>4.000000</td>\n",
       "      <td>NaN</td>\n",
       "      <td>3.000000</td>\n",
       "      <td>3.000000</td>\n",
       "      <td>NaN</td>\n",
       "      <td>5.000000</td>\n",
       "      <td>3.000000</td>\n",
       "      <td>NaN</td>\n",
       "    </tr>\n",
       "    <tr>\n",
       "      <th>75%</th>\n",
       "      <td>8.000000</td>\n",
       "      <td>NaN</td>\n",
       "      <td>6.000000</td>\n",
       "      <td>5.000000</td>\n",
       "      <td>NaN</td>\n",
       "      <td>10.000000</td>\n",
       "      <td>6.000000</td>\n",
       "      <td>NaN</td>\n",
       "    </tr>\n",
       "    <tr>\n",
       "      <th>max</th>\n",
       "      <td>11.000000</td>\n",
       "      <td>NaN</td>\n",
       "      <td>10.000000</td>\n",
       "      <td>7.000000</td>\n",
       "      <td>NaN</td>\n",
       "      <td>15.000000</td>\n",
       "      <td>10.000000</td>\n",
       "      <td>NaN</td>\n",
       "    </tr>\n",
       "  </tbody>\n",
       "</table>\n",
       "</div>"
      ],
      "text/plain": [
       "        Time_spent_Alone Stage_fear  Social_event_attendance  Going_outside  \\\n",
       "count        2837.000000       2827              2838.000000    2834.000000   \n",
       "unique               NaN          2                      NaN            NaN   \n",
       "top                  NaN         No                      NaN            NaN   \n",
       "freq                 NaN       1417                      NaN            NaN   \n",
       "mean            4.505816        NaN                 3.963354       3.000000   \n",
       "std             3.479192        NaN                 2.903827       2.247327   \n",
       "min             0.000000        NaN                 0.000000       0.000000   \n",
       "25%             2.000000        NaN                 2.000000       1.000000   \n",
       "50%             4.000000        NaN                 3.000000       3.000000   \n",
       "75%             8.000000        NaN                 6.000000       5.000000   \n",
       "max            11.000000        NaN                10.000000       7.000000   \n",
       "\n",
       "       Drained_after_socializing  Friends_circle_size  Post_frequency  \\\n",
       "count                       2848          2823.000000     2835.000000   \n",
       "unique                         2                  NaN             NaN   \n",
       "top                           No                  NaN             NaN   \n",
       "freq                        1441                  NaN             NaN   \n",
       "mean                         NaN             6.268863        3.564727   \n",
       "std                          NaN             4.289693        2.926582   \n",
       "min                          NaN             0.000000        0.000000   \n",
       "25%                          NaN             3.000000        1.000000   \n",
       "50%                          NaN             5.000000        3.000000   \n",
       "75%                          NaN            10.000000        6.000000   \n",
       "max                          NaN            15.000000       10.000000   \n",
       "\n",
       "       Personality  \n",
       "count         2900  \n",
       "unique           2  \n",
       "top      Extrovert  \n",
       "freq          1491  \n",
       "mean           NaN  \n",
       "std            NaN  \n",
       "min            NaN  \n",
       "25%            NaN  \n",
       "50%            NaN  \n",
       "75%            NaN  \n",
       "max            NaN  "
      ]
     },
     "execution_count": 6,
     "metadata": {},
     "output_type": "execute_result"
    }
   ],
   "source": [
    "# Statistical summary of all columns\n",
    "df.describe(include=\"all\")"
   ]
  },
  {
   "cell_type": "code",
   "execution_count": 7,
   "metadata": {},
   "outputs": [
    {
     "name": "stdout",
     "output_type": "stream",
     "text": [
      "Number of duplicated rows: 388\n"
     ]
    }
   ],
   "source": [
    "# Count and show duplicated rows\n",
    "print(\"Number of duplicated rows:\", df.duplicated().sum())"
   ]
  },
  {
   "cell_type": "code",
   "execution_count": 8,
   "metadata": {},
   "outputs": [
    {
     "data": {
      "text/plain": [
       "Time_spent_Alone             63\n",
       "Stage_fear                   73\n",
       "Social_event_attendance      62\n",
       "Going_outside                66\n",
       "Drained_after_socializing    52\n",
       "Friends_circle_size          77\n",
       "Post_frequency               65\n",
       "Personality                   0\n",
       "dtype: int64"
      ]
     },
     "execution_count": 8,
     "metadata": {},
     "output_type": "execute_result"
    }
   ],
   "source": [
    "# Check column that have missing values\n",
    "df.isna().sum()"
   ]
  },
  {
   "cell_type": "markdown",
   "metadata": {},
   "source": [
    "#### Displaying unique features value of object column"
   ]
  },
  {
   "cell_type": "code",
   "execution_count": 9,
   "metadata": {
    "ExecuteTime": {
     "end_time": "2025-05-25T04:46:24.758970Z",
     "start_time": "2025-05-25T04:46:24.745105Z"
    }
   },
   "outputs": [
    {
     "name": "stdout",
     "output_type": "stream",
     "text": [
      "Unique values in 'Stage_fear': ['No' 'Yes' nan]\n",
      "Number of unique values in 'Stage_fear': 3\n",
      "\n",
      "Unique values in 'Drained_after_socializing': ['No' 'Yes' nan]\n",
      "Number of unique values in 'Drained_after_socializing': 3\n",
      "\n",
      "Unique values in 'Personality': ['Extrovert' 'Introvert']\n",
      "Number of unique values in 'Personality': 2\n",
      "\n"
     ]
    }
   ],
   "source": [
    "# List of categorical features and uniques values to check\n",
    "categorical_features = df.select_dtypes(include='object').columns.tolist()\n",
    "\n",
    "# Display unique values for each categorical feature\n",
    "for col in categorical_features:\n",
    "    unique_values = df[col].unique()\n",
    "    print(f\"Unique values in '{col}': {unique_values}\")\n",
    "    print(f\"Number of unique values in '{col}': {len(unique_values)}\\n\")"
   ]
  },
  {
   "cell_type": "markdown",
   "metadata": {},
   "source": [
    "## Distribution of Target Variable (Personality)"
   ]
  },
  {
   "cell_type": "code",
   "execution_count": 10,
   "metadata": {
    "ExecuteTime": {
     "end_time": "2025-05-25T04:46:24.870361Z",
     "start_time": "2025-05-25T04:46:24.760051Z"
    }
   },
   "outputs": [
    {
     "data": {
      "image/png": "[encoded data removed]",
      "text/plain": [
       "<Figure size 640x480 with 1 Axes>"
      ]
     },
     "metadata": {},
     "output_type": "display_data"
    },
    {
     "name": "stdout",
     "output_type": "stream",
     "text": [
      "Percentage by class:\n",
      "Personality\n",
      "Extrovert    51.413793\n",
      "Introvert    48.586207\n",
      "Name: proportion, dtype: float64\n"
     ]
    }
   ],
   "source": [
    "# Visualize the distribution of the target variable\n",
    "sns.countplot(x='Personality', data=df)\n",
    "plt.title('Distribution of Personality')\n",
    "plt.xlabel('Personality')\n",
    "plt.ylabel('Count')\n",
    "plt.show()\n",
    "\n",
    "# Percentage distribution\n",
    "print(\"Percentage by class:\")\n",
    "print(df['Personality'].value_counts(normalize=True) * 100)"
   ]
  },
  {
   "cell_type": "markdown",
   "metadata": {},
   "source": [
    "From distribution of Personality, students are classified as *Personality*. The distribution bar chart shows the data is balance."
   ]
  },
  {
   "cell_type": "markdown",
   "metadata": {},
   "source": [
    "## Correlation Matrix with Target"
   ]
  },
  {
   "cell_type": "code",
   "execution_count": 11,
   "metadata": {
    "ExecuteTime": {
     "end_time": "2025-05-25T04:46:25.353451Z",
     "start_time": "2025-05-25T04:46:24.871873Z"
    }
   },
   "outputs": [
    {
     "data": {
      "image/png": "[encoded data removed]",
      "text/plain": [
       "<Figure size 1500x1200 with 2 Axes>"
      ]
     },
     "metadata": {},
     "output_type": "display_data"
    }
   ],
   "source": [
    "# Make a copy of the original dataframe\n",
    "df_encoded = df.copy()\n",
    "\n",
    "label_enc = LabelEncoder()\n",
    "\n",
    "# Loop through all object columns and encode them\n",
    "for col in df_encoded.select_dtypes(include='object').columns:\n",
    "    df_encoded[col] = label_enc.fit_transform(df_encoded[col])\n",
    "\n",
    "# Calculate the correlation matrix\n",
    "corr_matrix = df_encoded.corr()\n",
    "\n",
    "# Plot heatmap\n",
    "plt.figure(figsize=(15, 12))\n",
    "sns.heatmap(corr_matrix, annot=True, fmt=\".2f\", cmap='coolwarm', linewidths=0.5)\n",
    "plt.title(\"Correlation Matrix of All Features\")\n",
    "plt.xticks(rotation=45, ha='right')\n",
    "plt.yticks(rotation=0)\n",
    "plt.tight_layout()\n",
    "plt.show()"
   ]
  },
  {
   "cell_type": "markdown",
   "metadata": {},
   "source": [
    " **Top Features Associated with Human Personality**\n",
    " **Positively Associated Features**\n",
    "1. **Time_spent_Alone**\n",
    "   → Time Spent Alone give gave correlation with human personality and it's have effect to determine Introvert or Ekstovert person.\n",
    "\n",
    "2. **Stage_fear**\n",
    "   → Fear of stage or showing up at the stage is strong correlative with human personality.\n",
    "\n",
    "3. **Drain_after_socializing**\n",
    "   → Drain after sociallizing is one of the strong influences in determining personality.\n",
    "\n",
    "---\n",
    "\n",
    " **Negatively Associated Features**\n",
    "\n",
    "1. **Social_event_attendance**\n",
    "   → Attending the event social have less correlative with the personality, because either introvert or ekstrovert can attending the event.\n",
    "\n",
    "2. **Going_outside**\n",
    "   → Going outside have less correlative with the personality, because introvert can going outside without fear.\n",
    "\n",
    "3. **Friends_circle_size**\n",
    "   → Ekstrovert or Introvert maybe can have same circle size.\n",
    "\n",
    "4. **Post_frequency**\n",
    "   → Social media post have less correlative with personality.\n",
    "\n",
    "---\n",
    "\n",
    " **Key Insight**\n",
    "\n",
    "> human personality is most influenced by quality time and how they are communicate not their activity.\n",
    "\n"
   ]
  },
  {
   "cell_type": "markdown",
   "metadata": {},
   "source": [
    "## Detecting Outliers for Top Positive and Negative Associated Features"
   ]
  },
  {
   "cell_type": "code",
   "execution_count": 12,
   "metadata": {
    "ExecuteTime": {
     "end_time": "2025-05-25T04:46:26.046734Z",
     "start_time": "2025-05-25T04:46:25.375460Z"
    }
   },
   "outputs": [
    {
     "name": "stdout",
     "output_type": "stream",
     "text": [
      "Index(['Time_spent_Alone', 'Social_event_attendance', 'Going_outside',\n",
      "       'Friends_circle_size', 'Post_frequency'],\n",
      "      dtype='object')\n"
     ]
    },
    {
     "data": {
      "image/png": "[encoded data removed]",
      "text/plain": [
       "<Figure size 1500x800 with 5 Axes>"
      ]
     },
     "metadata": {},
     "output_type": "display_data"
    }
   ],
   "source": [
    "# List of numeric features to check\n",
    "features_to_check = df.select_dtypes(include=\"number\").columns\n",
    "print(features_to_check)\n",
    "\n",
    "# Boxplot visualization\n",
    "plt.figure(figsize=(15, 8))\n",
    "for i, col in enumerate(features_to_check):\n",
    "    plt.subplot(4, 2, i+1)\n",
    "    sns.boxplot(y=df_encoded[col])\n",
    "    plt.title(f'Boxplot of {col}')\n",
    "plt.tight_layout()\n",
    "plt.show()"
   ]
  },
  {
   "cell_type": "markdown",
   "metadata": {},
   "source": [
    "**Insight**\n",
    "* All numeric column don't have outliers, and don't need special attention to fix it"
   ]
  },
  {
   "cell_type": "markdown",
   "metadata": {
    "id": "cpgHfgnSK3ip"
   },
   "source": [
    "# **5. Data Preprocessing**"
   ]
  },
  {
   "cell_type": "code",
   "execution_count": 13,
   "metadata": {
    "ExecuteTime": {
     "end_time": "2025-05-25T04:46:26.051814Z",
     "start_time": "2025-05-25T04:46:26.047516Z"
    }
   },
   "outputs": [],
   "source": [
    "df_processed = df.copy()"
   ]
  },
  {
   "cell_type": "markdown",
   "metadata": {},
   "source": [
    "## Handling Missing Values"
   ]
  },
  {
   "cell_type": "code",
   "execution_count": 14,
   "metadata": {},
   "outputs": [
    {
     "name": "stdout",
     "output_type": "stream",
     "text": [
      "Index(['Time_spent_Alone', 'Social_event_attendance', 'Going_outside',\n",
      "       'Friends_circle_size', 'Post_frequency'],\n",
      "      dtype='object')\n",
      "\n",
      "Index(['Stage_fear', 'Drained_after_socializing'], dtype='object')\n"
     ]
    }
   ],
   "source": [
    "# Get numeric column that have missing values \n",
    "missing_cols_numeric = df_processed.select_dtypes(include=\"number\").columns[df.select_dtypes(include=\"number\").isnull().any()]\n",
    "print(missing_cols_numeric)\n",
    "print()\n",
    "\n",
    "# Get object column that have missing values \n",
    "missing_cols_object = df_processed.select_dtypes(include=\"object\").columns[df.select_dtypes(include=\"object\").isnull().any()]\n",
    "print(missing_cols_object)"
   ]
  },
  {
   "cell_type": "code",
   "execution_count": 15,
   "metadata": {},
   "outputs": [
    {
     "name": "stderr",
     "output_type": "stream",
     "text": [
      "C:\\Users\\ThinkPad\\AppData\\Local\\Temp\\ipykernel_20000\\2233039039.py:3: FutureWarning: A value is trying to be set on a copy of a DataFrame or Series through chained assignment using an inplace method.\n",
      "The behavior will change in pandas 3.0. This inplace method will never work because the intermediate object on which we are setting values always behaves as a copy.\n",
      "\n",
      "For example, when doing 'df[col].method(value, inplace=True)', try using 'df.method({col: value}, inplace=True)' or df[col] = df[col].method(value) instead, to perform the operation inplace on the original object.\n",
      "\n",
      "\n",
      "  df_processed[col].fillna(df_processed[col].median(), inplace=True)\n",
      "C:\\Users\\ThinkPad\\AppData\\Local\\Temp\\ipykernel_20000\\2233039039.py:3: FutureWarning: A value is trying to be set on a copy of a DataFrame or Series through chained assignment using an inplace method.\n",
      "The behavior will change in pandas 3.0. This inplace method will never work because the intermediate object on which we are setting values always behaves as a copy.\n",
      "\n",
      "For example, when doing 'df[col].method(value, inplace=True)', try using 'df.method({col: value}, inplace=True)' or df[col] = df[col].method(value) instead, to perform the operation inplace on the original object.\n",
      "\n",
      "\n",
      "  df_processed[col].fillna(df_processed[col].median(), inplace=True)\n",
      "C:\\Users\\ThinkPad\\AppData\\Local\\Temp\\ipykernel_20000\\2233039039.py:3: FutureWarning: A value is trying to be set on a copy of a DataFrame or Series through chained assignment using an inplace method.\n",
      "The behavior will change in pandas 3.0. This inplace method will never work because the intermediate object on which we are setting values always behaves as a copy.\n",
      "\n",
      "For example, when doing 'df[col].method(value, inplace=True)', try using 'df.method({col: value}, inplace=True)' or df[col] = df[col].method(value) instead, to perform the operation inplace on the original object.\n",
      "\n",
      "\n",
      "  df_processed[col].fillna(df_processed[col].median(), inplace=True)\n",
      "C:\\Users\\ThinkPad\\AppData\\Local\\Temp\\ipykernel_20000\\2233039039.py:3: FutureWarning: A value is trying to be set on a copy of a DataFrame or Series through chained assignment using an inplace method.\n",
      "The behavior will change in pandas 3.0. This inplace method will never work because the intermediate object on which we are setting values always behaves as a copy.\n",
      "\n",
      "For example, when doing 'df[col].method(value, inplace=True)', try using 'df.method({col: value}, inplace=True)' or df[col] = df[col].method(value) instead, to perform the operation inplace on the original object.\n",
      "\n",
      "\n",
      "  df_processed[col].fillna(df_processed[col].median(), inplace=True)\n",
      "C:\\Users\\ThinkPad\\AppData\\Local\\Temp\\ipykernel_20000\\2233039039.py:3: FutureWarning: A value is trying to be set on a copy of a DataFrame or Series through chained assignment using an inplace method.\n",
      "The behavior will change in pandas 3.0. This inplace method will never work because the intermediate object on which we are setting values always behaves as a copy.\n",
      "\n",
      "For example, when doing 'df[col].method(value, inplace=True)', try using 'df.method({col: value}, inplace=True)' or df[col] = df[col].method(value) instead, to perform the operation inplace on the original object.\n",
      "\n",
      "\n",
      "  df_processed[col].fillna(df_processed[col].median(), inplace=True)\n",
      "C:\\Users\\ThinkPad\\AppData\\Local\\Temp\\ipykernel_20000\\2233039039.py:8: FutureWarning: A value is trying to be set on a copy of a DataFrame or Series through chained assignment using an inplace method.\n",
      "The behavior will change in pandas 3.0. This inplace method will never work because the intermediate object on which we are setting values always behaves as a copy.\n",
      "\n",
      "For example, when doing 'df[col].method(value, inplace=True)', try using 'df.method({col: value}, inplace=True)' or df[col] = df[col].method(value) instead, to perform the operation inplace on the original object.\n",
      "\n",
      "\n",
      "  df_processed[col].fillna(df_processed[col].mode()[0], inplace=True)\n"
     ]
    }
   ],
   "source": [
    "# Impute numerical columns with the median\n",
    "for col in missing_cols_numeric:\n",
    "    df_processed[col].fillna(df_processed[col].median(), inplace=True)\n",
    "\n",
    "# Impute categorical columns with the mode\n",
    "for col in missing_cols_object:\n",
    "    if col in df_processed.columns:\n",
    "        df_processed[col].fillna(df_processed[col].mode()[0], inplace=True)"
   ]
  },
  {
   "cell_type": "code",
   "execution_count": 16,
   "metadata": {},
   "outputs": [
    {
     "data": {
      "text/plain": [
       "Time_spent_Alone             0\n",
       "Stage_fear                   0\n",
       "Social_event_attendance      0\n",
       "Going_outside                0\n",
       "Drained_after_socializing    0\n",
       "Friends_circle_size          0\n",
       "Post_frequency               0\n",
       "Personality                  0\n",
       "dtype: int64"
      ]
     },
     "execution_count": 16,
     "metadata": {},
     "output_type": "execute_result"
    }
   ],
   "source": [
    "df_processed.isna().sum()"
   ]
  },
  {
   "cell_type": "code",
   "execution_count": 17,
   "metadata": {
    "ExecuteTime": {
     "end_time": "2025-05-25T04:46:26.085809Z",
     "start_time": "2025-05-25T04:46:26.058015Z"
    }
   },
   "outputs": [
    {
     "data": {
      "text/html": [
       "<div>\n",
       "<style scoped>\n",
       "    .dataframe tbody tr th:only-of-type {\n",
       "        vertical-align: middle;\n",
       "    }\n",
       "\n",
       "    .dataframe tbody tr th {\n",
       "        vertical-align: top;\n",
       "    }\n",
       "\n",
       "    .dataframe thead th {\n",
       "        text-align: right;\n",
       "    }\n",
       "</style>\n",
       "<table border=\"1\" class=\"dataframe\">\n",
       "  <thead>\n",
       "    <tr style=\"text-align: right;\">\n",
       "      <th></th>\n",
       "      <th>Time_spent_Alone</th>\n",
       "      <th>Stage_fear</th>\n",
       "      <th>Social_event_attendance</th>\n",
       "      <th>Going_outside</th>\n",
       "      <th>Drained_after_socializing</th>\n",
       "      <th>Friends_circle_size</th>\n",
       "      <th>Post_frequency</th>\n",
       "      <th>Personality</th>\n",
       "    </tr>\n",
       "  </thead>\n",
       "  <tbody>\n",
       "    <tr>\n",
       "      <th>count</th>\n",
       "      <td>2900.000000</td>\n",
       "      <td>2900</td>\n",
       "      <td>2900.000000</td>\n",
       "      <td>2900.000000</td>\n",
       "      <td>2900</td>\n",
       "      <td>2900.000000</td>\n",
       "      <td>2900.000000</td>\n",
       "      <td>2900</td>\n",
       "    </tr>\n",
       "    <tr>\n",
       "      <th>unique</th>\n",
       "      <td>NaN</td>\n",
       "      <td>2</td>\n",
       "      <td>NaN</td>\n",
       "      <td>NaN</td>\n",
       "      <td>2</td>\n",
       "      <td>NaN</td>\n",
       "      <td>NaN</td>\n",
       "      <td>2</td>\n",
       "    </tr>\n",
       "    <tr>\n",
       "      <th>top</th>\n",
       "      <td>NaN</td>\n",
       "      <td>No</td>\n",
       "      <td>NaN</td>\n",
       "      <td>NaN</td>\n",
       "      <td>No</td>\n",
       "      <td>NaN</td>\n",
       "      <td>NaN</td>\n",
       "      <td>Extrovert</td>\n",
       "    </tr>\n",
       "    <tr>\n",
       "      <th>freq</th>\n",
       "      <td>NaN</td>\n",
       "      <td>1490</td>\n",
       "      <td>NaN</td>\n",
       "      <td>NaN</td>\n",
       "      <td>1493</td>\n",
       "      <td>NaN</td>\n",
       "      <td>NaN</td>\n",
       "      <td>1491</td>\n",
       "    </tr>\n",
       "    <tr>\n",
       "      <th>mean</th>\n",
       "      <td>4.494828</td>\n",
       "      <td>NaN</td>\n",
       "      <td>3.942759</td>\n",
       "      <td>3.000000</td>\n",
       "      <td>NaN</td>\n",
       "      <td>6.235172</td>\n",
       "      <td>3.552069</td>\n",
       "      <td>NaN</td>\n",
       "    </tr>\n",
       "    <tr>\n",
       "      <th>std</th>\n",
       "      <td>3.441971</td>\n",
       "      <td>NaN</td>\n",
       "      <td>2.875987</td>\n",
       "      <td>2.221597</td>\n",
       "      <td>NaN</td>\n",
       "      <td>4.237255</td>\n",
       "      <td>2.894794</td>\n",
       "      <td>NaN</td>\n",
       "    </tr>\n",
       "    <tr>\n",
       "      <th>min</th>\n",
       "      <td>0.000000</td>\n",
       "      <td>NaN</td>\n",
       "      <td>0.000000</td>\n",
       "      <td>0.000000</td>\n",
       "      <td>NaN</td>\n",
       "      <td>0.000000</td>\n",
       "      <td>0.000000</td>\n",
       "      <td>NaN</td>\n",
       "    </tr>\n",
       "    <tr>\n",
       "      <th>25%</th>\n",
       "      <td>2.000000</td>\n",
       "      <td>NaN</td>\n",
       "      <td>2.000000</td>\n",
       "      <td>1.000000</td>\n",
       "      <td>NaN</td>\n",
       "      <td>3.000000</td>\n",
       "      <td>1.000000</td>\n",
       "      <td>NaN</td>\n",
       "    </tr>\n",
       "    <tr>\n",
       "      <th>50%</th>\n",
       "      <td>4.000000</td>\n",
       "      <td>NaN</td>\n",
       "      <td>3.000000</td>\n",
       "      <td>3.000000</td>\n",
       "      <td>NaN</td>\n",
       "      <td>5.000000</td>\n",
       "      <td>3.000000</td>\n",
       "      <td>NaN</td>\n",
       "    </tr>\n",
       "    <tr>\n",
       "      <th>75%</th>\n",
       "      <td>7.000000</td>\n",
       "      <td>NaN</td>\n",
       "      <td>6.000000</td>\n",
       "      <td>5.000000</td>\n",
       "      <td>NaN</td>\n",
       "      <td>10.000000</td>\n",
       "      <td>6.000000</td>\n",
       "      <td>NaN</td>\n",
       "    </tr>\n",
       "    <tr>\n",
       "      <th>max</th>\n",
       "      <td>11.000000</td>\n",
       "      <td>NaN</td>\n",
       "      <td>10.000000</td>\n",
       "      <td>7.000000</td>\n",
       "      <td>NaN</td>\n",
       "      <td>15.000000</td>\n",
       "      <td>10.000000</td>\n",
       "      <td>NaN</td>\n",
       "    </tr>\n",
       "  </tbody>\n",
       "</table>\n",
       "</div>"
      ],
      "text/plain": [
       "        Time_spent_Alone Stage_fear  Social_event_attendance  Going_outside  \\\n",
       "count        2900.000000       2900              2900.000000    2900.000000   \n",
       "unique               NaN          2                      NaN            NaN   \n",
       "top                  NaN         No                      NaN            NaN   \n",
       "freq                 NaN       1490                      NaN            NaN   \n",
       "mean            4.494828        NaN                 3.942759       3.000000   \n",
       "std             3.441971        NaN                 2.875987       2.221597   \n",
       "min             0.000000        NaN                 0.000000       0.000000   \n",
       "25%             2.000000        NaN                 2.000000       1.000000   \n",
       "50%             4.000000        NaN                 3.000000       3.000000   \n",
       "75%             7.000000        NaN                 6.000000       5.000000   \n",
       "max            11.000000        NaN                10.000000       7.000000   \n",
       "\n",
       "       Drained_after_socializing  Friends_circle_size  Post_frequency  \\\n",
       "count                       2900          2900.000000     2900.000000   \n",
       "unique                         2                  NaN             NaN   \n",
       "top                           No                  NaN             NaN   \n",
       "freq                        1493                  NaN             NaN   \n",
       "mean                         NaN             6.235172        3.552069   \n",
       "std                          NaN             4.237255        2.894794   \n",
       "min                          NaN             0.000000        0.000000   \n",
       "25%                          NaN             3.000000        1.000000   \n",
       "50%                          NaN             5.000000        3.000000   \n",
       "75%                          NaN            10.000000        6.000000   \n",
       "max                          NaN            15.000000       10.000000   \n",
       "\n",
       "       Personality  \n",
       "count         2900  \n",
       "unique           2  \n",
       "top      Extrovert  \n",
       "freq          1491  \n",
       "mean           NaN  \n",
       "std            NaN  \n",
       "min            NaN  \n",
       "25%            NaN  \n",
       "50%            NaN  \n",
       "75%            NaN  \n",
       "max            NaN  "
      ]
     },
     "execution_count": 17,
     "metadata": {},
     "output_type": "execute_result"
    }
   ],
   "source": [
    "df_processed.describe(include='all')"
   ]
  },
  {
   "cell_type": "markdown",
   "metadata": {},
   "source": [
    "## Encoding Categorical Data"
   ]
  },
  {
   "cell_type": "code",
   "execution_count": 18,
   "metadata": {
    "ExecuteTime": {
     "end_time": "2025-05-25T04:46:26.118486Z",
     "start_time": "2025-05-25T04:46:26.099093Z"
    }
   },
   "outputs": [],
   "source": [
    "label_enc = LabelEncoder()\n",
    "\n",
    "# Dictionary to store encoders\n",
    "encoders = {}\n",
    "\n",
    "# Encode categorical features\n",
    "categorical_features = df_processed.select_dtypes(include='object').columns.tolist()\n",
    "\n",
    "# Get  numerical feature\n",
    "numerical_features = df_processed.select_dtypes(include=['number']).columns.tolist()\n",
    "\n",
    "for col in categorical_features:\n",
    "    label_enc = LabelEncoder()\n",
    "    df_processed[col] = label_enc.fit_transform(df_processed[col])\n",
    "    encoders[col] = label_enc "
   ]
  },
  {
   "cell_type": "markdown",
   "metadata": {},
   "source": [
    "## Feature Scaling"
   ]
  },
  {
   "cell_type": "code",
   "execution_count": 19,
   "metadata": {
    "ExecuteTime": {
     "end_time": "2025-05-25T04:46:26.127175Z",
     "start_time": "2025-05-25T04:46:26.119184Z"
    }
   },
   "outputs": [],
   "source": [
    "X = df_processed.drop(columns=['Personality'])\n",
    "y = df_processed['Personality']\n",
    "\n",
    "scaler = StandardScaler()\n",
    "X_scaled = scaler.fit_transform(X[numerical_features])"
   ]
  },
  {
   "cell_type": "markdown",
   "metadata": {},
   "source": [
    "## Combine Scaled Features with Encoded Categorical Features"
   ]
  },
  {
   "cell_type": "code",
   "execution_count": 20,
   "metadata": {
    "ExecuteTime": {
     "end_time": "2025-05-25T04:46:26.134851Z",
     "start_time": "2025-05-25T04:46:26.128344Z"
    }
   },
   "outputs": [
    {
     "name": "stdout",
     "output_type": "stream",
     "text": [
      "Features after combination:\n",
      "    Time_spent_Alone  Stage_fear  Social_event_attendance  Going_outside  \\\n",
      "0         -0.143788           0                 0.019907       1.350613   \n",
      "1          1.309119           1                -1.371160      -1.350613   \n",
      "2          1.309119           1                -1.023393      -0.450204   \n",
      "3         -1.306113           0                 0.715440       1.800817   \n",
      "4         -0.434369           0                 1.758740       0.450204   \n",
      "\n",
      "   Drained_after_socializing  Friends_circle_size  Post_frequency  \n",
      "0                          0             1.596787        0.500271  \n",
      "1                          1            -1.471766       -0.190744  \n",
      "2                          1            -0.291553       -0.536251  \n",
      "3                          0             1.832829        1.536793  \n",
      "4                          0             0.416574        0.500271  \n"
     ]
    }
   ],
   "source": [
    "# Convert scaled features back to DataFrame\n",
    "X_scaled = pd.DataFrame(X_scaled, columns=numerical_features)\n",
    "\n",
    "# Add encoded categorical features to the scaled DataFrame\n",
    "for col in categorical_features:\n",
    "    X_scaled[col] = df_processed[col].values\n",
    "   \n",
    "# Reorder columns to match original DataFrame\n",
    "X_scaled = X_scaled[X.columns]\n",
    "\n",
    "# Display the first few rows\n",
    "print(\"Features after combination:\\n\", X_scaled.head())"
   ]
  },
  {
   "cell_type": "markdown",
   "metadata": {},
   "source": [
    "## Split Data 80:20"
   ]
  },
  {
   "cell_type": "code",
   "execution_count": 21,
   "metadata": {
    "ExecuteTime": {
     "end_time": "2025-05-25T04:46:26.146460Z",
     "start_time": "2025-05-25T04:46:26.135893Z"
    }
   },
   "outputs": [],
   "source": [
    "X_train, X_test, y_train, y_test = train_test_split(\n",
    "    X_scaled, y, test_size=0.2, random_state=42, stratify=y\n",
    ")"
   ]
  },
  {
   "cell_type": "markdown",
   "metadata": {},
   "source": [
    "## Export Data to CSV"
   ]
  },
  {
   "cell_type": "code",
   "execution_count": 22,
   "metadata": {
    "ExecuteTime": {
     "end_time": "2025-05-25T04:46:26.314979Z",
     "start_time": "2025-05-25T04:46:26.147678Z"
    }
   },
   "outputs": [
    {
     "name": "stdout",
     "output_type": "stream",
     "text": [
      "✅ Preprocessing complete. File saved as 'student_depression_processed.csv'\n"
     ]
    }
   ],
   "source": [
    "# Combine X_scaled and y into a final DataFrame\n",
    "df_final = pd.concat([X_scaled, y.reset_index(drop=True)], axis=1)\n",
    "\n",
    "df_final.to_csv(\"extrovert_introvert_processed.csv\", index=False)\n",
    "\n",
    "print(\"✅ Preprocessing complete. File saved as 'student_depression_processed.csv'\")"
   ]
  }
 ],
 "metadata": {
  "accelerator": "GPU",
  "colab": {
   "gpuType": "T4",
   "provenance": []
  },
  "kernelspec": {
   "display_name": "Python 3 (ipykernel)",
   "language": "python",
   "name": "python3"
  },
  "language_info": {
   "codemirror_mode": {
    "name": "ipython",
    "version": 3
   },
   "file_extension": ".py",
   "mimetype": "text/x-python",
   "name": "python",
   "nbconvert_exporter": "python",
   "pygments_lexer": "ipython3",
   "version": "3.13.2"
  }
 },
 "nbformat": 4,
 "nbformat_minor": 4
}
